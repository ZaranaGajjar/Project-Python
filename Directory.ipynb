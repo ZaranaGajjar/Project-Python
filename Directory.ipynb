{
 "cells": [
  {
   "cell_type": "code",
   "execution_count": 3,
   "metadata": {},
   "outputs": [
    {
     "name": "stdout",
     "output_type": "stream",
     "text": [
      "*****TELEPHONE DIRECTORY***\n",
      "Enter the number of contacts : 2\n",
      "Enter name: asws\n",
      "Enter phone number: 2324\n",
      "Enter name: sdfd\n",
      "Enter phone number: 2342\n",
      "{'asws': 2324, 'sdfd': 2342}\n",
      "\n",
      "         1:Add a contact\n",
      "         2:Update a contact\n",
      "         3:Search a contact\n",
      "         4:View directory\n",
      "         5:Delete a contact\n",
      "         6:Exit\n",
      "Enter your choice :3\n",
      "Enter the name whose number is to be found: asws\n"
     ]
    },
    {
     "ename": "ValueError",
     "evalue": "invalid literal for int() with base 10: 'asws'",
     "output_type": "error",
     "traceback": [
      "\u001b[1;31m---------------------------------------------------------------------------\u001b[0m",
      "\u001b[1;31mValueError\u001b[0m                                Traceback (most recent call last)",
      "\u001b[1;32m<ipython-input-3-a92dc0b61112>\u001b[0m in \u001b[0;36m<module>\u001b[1;34m\u001b[0m\n\u001b[0;32m     52\u001b[0m     \u001b[0mupdate\u001b[0m\u001b[1;33m(\u001b[0m\u001b[0mdirectory\u001b[0m\u001b[1;33m,\u001b[0m\u001b[0mn\u001b[0m\u001b[1;33m,\u001b[0m\u001b[0mlist1\u001b[0m\u001b[1;33m)\u001b[0m\u001b[1;33m\u001b[0m\u001b[1;33m\u001b[0m\u001b[0m\n\u001b[0;32m     53\u001b[0m \u001b[1;32melif\u001b[0m \u001b[1;33m(\u001b[0m\u001b[0mselect\u001b[0m\u001b[1;33m==\u001b[0m\u001b[1;36m3\u001b[0m\u001b[1;33m)\u001b[0m\u001b[1;33m:\u001b[0m\u001b[1;33m\u001b[0m\u001b[1;33m\u001b[0m\u001b[0m\n\u001b[1;32m---> 54\u001b[1;33m     \u001b[0msearch\u001b[0m\u001b[1;33m(\u001b[0m\u001b[0mdirectory\u001b[0m\u001b[1;33m,\u001b[0m\u001b[0mn\u001b[0m\u001b[1;33m,\u001b[0m\u001b[0mlist1\u001b[0m\u001b[1;33m,\u001b[0m\u001b[0mtemp\u001b[0m\u001b[1;33m)\u001b[0m\u001b[1;33m\u001b[0m\u001b[1;33m\u001b[0m\u001b[0m\n\u001b[0m\u001b[0;32m     55\u001b[0m \u001b[1;32melif\u001b[0m \u001b[1;33m(\u001b[0m\u001b[0mselect\u001b[0m\u001b[1;33m==\u001b[0m\u001b[1;36m5\u001b[0m\u001b[1;33m)\u001b[0m\u001b[1;33m:\u001b[0m\u001b[1;33m\u001b[0m\u001b[1;33m\u001b[0m\u001b[0m\n\u001b[0;32m     56\u001b[0m     \u001b[0mdelete\u001b[0m\u001b[1;33m(\u001b[0m\u001b[0mdirectory\u001b[0m\u001b[1;33m)\u001b[0m\u001b[1;33m\u001b[0m\u001b[1;33m\u001b[0m\u001b[0m\n",
      "\u001b[1;32m<ipython-input-3-a92dc0b61112>\u001b[0m in \u001b[0;36msearch\u001b[1;34m(directory, n, list1, temp)\u001b[0m\n\u001b[0;32m     35\u001b[0m     \u001b[0mprint\u001b[0m\u001b[1;33m(\u001b[0m\u001b[0mdirectory\u001b[0m\u001b[1;33m)\u001b[0m\u001b[1;33m\u001b[0m\u001b[1;33m\u001b[0m\u001b[0m\n\u001b[0;32m     36\u001b[0m \u001b[1;32mdef\u001b[0m \u001b[0msearch\u001b[0m\u001b[1;33m(\u001b[0m\u001b[0mdirectory\u001b[0m\u001b[1;33m,\u001b[0m\u001b[0mn\u001b[0m\u001b[1;33m,\u001b[0m\u001b[0mlist1\u001b[0m\u001b[1;33m,\u001b[0m\u001b[0mtemp\u001b[0m\u001b[1;33m)\u001b[0m\u001b[1;33m:\u001b[0m\u001b[1;33m\u001b[0m\u001b[1;33m\u001b[0m\u001b[0m\n\u001b[1;32m---> 37\u001b[1;33m     \u001b[0msname\u001b[0m\u001b[1;33m=\u001b[0m\u001b[0mint\u001b[0m\u001b[1;33m(\u001b[0m\u001b[0minput\u001b[0m\u001b[1;33m(\u001b[0m\u001b[1;34m\"Enter the name whose number is to be found: \"\u001b[0m\u001b[1;33m)\u001b[0m\u001b[1;33m)\u001b[0m\u001b[1;33m\u001b[0m\u001b[1;33m\u001b[0m\u001b[0m\n\u001b[0m\u001b[0;32m     38\u001b[0m     \u001b[1;32mfor\u001b[0m \u001b[0mi\u001b[0m \u001b[1;32min\u001b[0m \u001b[0mrange\u001b[0m\u001b[1;33m(\u001b[0m\u001b[1;36m0\u001b[0m\u001b[1;33m,\u001b[0m\u001b[0mn\u001b[0m\u001b[1;33m)\u001b[0m\u001b[1;33m:\u001b[0m\u001b[1;33m\u001b[0m\u001b[1;33m\u001b[0m\u001b[0m\n\u001b[0;32m     39\u001b[0m         \u001b[1;32mif\u001b[0m \u001b[0mlist1\u001b[0m\u001b[1;33m[\u001b[0m\u001b[0mi\u001b[0m\u001b[1;33m]\u001b[0m\u001b[1;33m==\u001b[0m\u001b[0msname\u001b[0m\u001b[1;33m:\u001b[0m\u001b[1;33m\u001b[0m\u001b[1;33m\u001b[0m\u001b[0m\n",
      "\u001b[1;31mValueError\u001b[0m: invalid literal for int() with base 10: 'asws'"
     ]
    }
   ],
   "source": [
    "print(\"*****TELEPHONE DIRECTORY***\")\n",
    "list1=[]\n",
    "list2=[]\n",
    "directory={}\n",
    "temp=500\n",
    "n=int(input(\"Enter the number of contacts : \"))\n",
    "for i in range(0,n):\n",
    "    name=input(\"Enter name: \")\n",
    "    num=int(input(\"Enter phone number: \"))\n",
    "    list1.extend([name]) #all the elements are added to the end of list\n",
    "    list2.extend([num])\n",
    "    directory=dict(zip(list1,list2))\n",
    "print(directory)\n",
    "print(\"\"\"\n",
    "         1:Add a contact\n",
    "         2:Update a contact\n",
    "         3:Search a contact\n",
    "         4:View directory\n",
    "         5:Delete a contact\n",
    "         6:Exit\"\"\")\n",
    "select=int(input(\"Enter your choice :\"))\n",
    "def add(directory):\n",
    "    newname=input(\"Enter the contact name you want to add: \")\n",
    "    newnum=int(input(\"Enter the number: \"))\n",
    "    directory[newname]=newnum\n",
    "    print(directory)\n",
    "def update(directory,n,list1):\n",
    "    uname=input(\"Enter the name which you want to update: \")\n",
    "    for i in range(0,n):\n",
    "        if list1[i]==uname:\n",
    "            temp=i\n",
    "    if temp!=100:\n",
    "        unum=int(input(\"Enter the new number\"))\n",
    "        directory[uname]=unum\n",
    "    print(directory)\n",
    "def search(directory,n,list1,temp):\n",
    "    sname=int(input(\"Enter the name whose number is to be found: \"))\n",
    "    for i in range(0,n):\n",
    "        if list1[i]==sname:\n",
    "            temp=i\n",
    "    if temp!=100:\n",
    "        print(\"Number is : \",list2[temp])\n",
    "def view(directory):\n",
    "    print(directory)\n",
    "def delete(directory):\n",
    "    dname=input(\"Enter the name you want to delete: \")\n",
    "    del directory[dname]\n",
    "    print(directory)\n",
    "if (select==1):\n",
    "    add(directory)\n",
    "elif (select==2):\n",
    "    update(directory,n,list1)\n",
    "elif (select==3):\n",
    "    search(directory,n,list1,temp)\n",
    "elif (select==5):\n",
    "    delete(directory)    \n",
    "else:\n",
    "    view(directory)"
   ]
  },
  {
   "cell_type": "code",
   "execution_count": null,
   "metadata": {},
   "outputs": [],
   "source": []
  }
 ],
 "metadata": {
  "kernelspec": {
   "display_name": "Python 3",
   "language": "python",
   "name": "python3"
  },
  "language_info": {
   "codemirror_mode": {
    "name": "ipython",
    "version": 3
   },
   "file_extension": ".py",
   "mimetype": "text/x-python",
   "name": "python",
   "nbconvert_exporter": "python",
   "pygments_lexer": "ipython3",
   "version": "3.7.6"
  }
 },
 "nbformat": 4,
 "nbformat_minor": 4
}
