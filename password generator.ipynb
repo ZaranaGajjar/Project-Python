{
 "cells": [
  {
   "cell_type": "code",
   "execution_count": 1,
   "metadata": {},
   "outputs": [
    {
     "name": "stdout",
     "output_type": "stream",
     "text": [
      "Enter Password Length : 7\n",
      "Fil6*rq\n"
     ]
    }
   ],
   "source": [
    "import random #\"import random\" function take variables from the value function.\n",
    "value = 'ABCDEFGHIJKLMNOPQRSTUVWXYZabcdefghijklmnopqrstuvwxyz1234567890!@#$%^&*'\n",
    "\n",
    "length = int(input('Enter Password Length : '))\n",
    "\n",
    "password = ''\n",
    "for i in range(length):\n",
    "    password+=random.choice(value)\n",
    "print(password)"
   ]
  },
  {
   "cell_type": "code",
   "execution_count": 2,
   "metadata": {},
   "outputs": [
    {
     "name": "stdout",
     "output_type": "stream",
     "text": [
      "Enter number of password : 4\n",
      "Enter Password Length : 8\n",
      "EnvKyeui\n",
      "bpq33$Ji\n",
      "2$!KXlH$\n",
      "n8cK&jkO\n"
     ]
    }
   ],
   "source": [
    "import random \n",
    "value = 'ABCDEFGHIJKLMNOPQRSTUVWXYZabcdefghijklmnopqrstuvwxyz1234567890!@#$%^&*'\n",
    "\n",
    "count = int(input('Enter number of password : '))\n",
    "length = int(input('Enter Password Length : '))\n",
    "\n",
    "for i in range(count):\n",
    "    password = ''\n",
    "    for j in range(length):\n",
    "        password+=random.choice(value)\n",
    "    print(password)"
   ]
  },
  {
   "cell_type": "code",
   "execution_count": null,
   "metadata": {},
   "outputs": [],
   "source": []
  }
 ],
 "metadata": {
  "kernelspec": {
   "display_name": "Python 3",
   "language": "python",
   "name": "python3"
  },
  "language_info": {
   "codemirror_mode": {
    "name": "ipython",
    "version": 3
   },
   "file_extension": ".py",
   "mimetype": "text/x-python",
   "name": "python",
   "nbconvert_exporter": "python",
   "pygments_lexer": "ipython3",
   "version": "3.7.6"
  }
 },
 "nbformat": 4,
 "nbformat_minor": 4
}
