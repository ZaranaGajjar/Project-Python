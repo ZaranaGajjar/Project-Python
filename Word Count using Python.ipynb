{
 "cells": [
  {
   "cell_type": "code",
   "execution_count": 2,
   "metadata": {},
   "outputs": [
    {
     "name": "stdout",
     "output_type": "stream",
     "text": [
      "Enter your words :hi  hello  fine\n",
      "Number of words are : 3\n"
     ]
    }
   ],
   "source": [
    "sen = input('Enter your words :')\n",
    "count = str(len(sen.split()))\n",
    "print('Number of words are : '+count)"
   ]
  },
  {
   "cell_type": "code",
   "execution_count": 6,
   "metadata": {},
   "outputs": [
    {
     "name": "stdout",
     "output_type": "stream",
     "text": [
      "Enter any stringhello i am zarana. hello zarana\n",
      "{'hello': 2, 'i': 1, 'am': 1, 'zarana.': 1, 'zarana': 1}\n"
     ]
    }
   ],
   "source": [
    "a= list(map(str,input('Enter any string : ').strip().split(' ')))\n",
    "dct ={}\n",
    "for i in a:\n",
    "    if i not in dct:\n",
    "        dct[i] =1\n",
    "    else:\n",
    "        dct[i] +=1\n",
    "print(dct)"
   ]
  },
  {
   "cell_type": "code",
   "execution_count": null,
   "metadata": {},
   "outputs": [],
   "source": []
  }
 ],
 "metadata": {
  "kernelspec": {
   "display_name": "Python 3",
   "language": "python",
   "name": "python3"
  },
  "language_info": {
   "codemirror_mode": {
    "name": "ipython",
    "version": 3
   },
   "file_extension": ".py",
   "mimetype": "text/x-python",
   "name": "python",
   "nbconvert_exporter": "python",
   "pygments_lexer": "ipython3",
   "version": "3.7.6"
  }
 },
 "nbformat": 4,
 "nbformat_minor": 4
}
