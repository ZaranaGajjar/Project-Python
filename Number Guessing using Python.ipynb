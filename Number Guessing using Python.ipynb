{
 "cells": [
  {
   "cell_type": "code",
   "execution_count": 7,
   "metadata": {},
   "outputs": [
    {
     "name": "stdout",
     "output_type": "stream",
     "text": [
      "***Guess any number between 1 and 10.***\n",
      "\n",
      "Guess any number :5\n",
      "You have guess a smaller number.\n",
      "Guess any number :7\n",
      "You have guess a smaller number.\n",
      "Guess any number :9\n",
      "You have guess a larger number.\n",
      "Guess any number :8\n",
      "You have guessed number in 4 guesses!\n"
     ]
    }
   ],
   "source": [
    "print('***Guess any number between 1 and 10.***\\n')\n",
    "import random\n",
    "trial = 0\n",
    "\n",
    "num = random.randint(1, 10)\n",
    "\n",
    "while trial < 4:\n",
    "    guess = int(input('Guess any number :'))\n",
    "   \n",
    "    trial = trial + 1\n",
    "    if guess > num:\n",
    "        print('You have guess a larger number.')\n",
    "    if guess < num:\n",
    "        print('You have guess a smaller number.') \n",
    "    if guess == num:\n",
    "        break\n",
    "    \n",
    "if guess == num:\n",
    "    trial = str(trial)\n",
    "    print('You have guessed number in ' + trial + ' guesses!')\n",
    "\n",
    "if guess != num:\n",
    "    print('Incorrect. The number was ' + str(num))"
   ]
  },
  {
   "cell_type": "code",
   "execution_count": null,
   "metadata": {},
   "outputs": [],
   "source": []
  }
 ],
 "metadata": {
  "kernelspec": {
   "display_name": "Python 3",
   "language": "python",
   "name": "python3"
  },
  "language_info": {
   "codemirror_mode": {
    "name": "ipython",
    "version": 3
   },
   "file_extension": ".py",
   "mimetype": "text/x-python",
   "name": "python",
   "nbconvert_exporter": "python",
   "pygments_lexer": "ipython3",
   "version": "3.7.6"
  }
 },
 "nbformat": 4,
 "nbformat_minor": 4
}
